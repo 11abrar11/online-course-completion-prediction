{
 "cells": [
  {
   "cell_type": "code",
   "execution_count": 1,
   "id": "c23f572d-b1d7-4240-9ae1-2a993bd17804",
   "metadata": {},
   "outputs": [],
   "source": [
    "import pandas as pd\n",
    "import matplotlib.pyplot as plt\n",
    "import seaborn as sns\n",
    "from sklearn.model_selection import train_test_split\n",
    "from sklearn.preprocessing import StandardScaler\n",
    "df=pd.read_csv('preprocessed_online_course_data.csv')\n"
   ]
  },
  {
   "cell_type": "code",
   "execution_count": 3,
   "id": "fccc9617-c7b0-4805-bd09-00bf24ed40fe",
   "metadata": {},
   "outputs": [],
   "source": [
    "X=df.drop('completed_course',axis=1,errors='ignore')\n",
    "y=df['completed_course']\n"
   ]
  },
  {
   "cell_type": "code",
   "execution_count": 4,
   "id": "0a8fd182-1bae-4bfa-a564-46fa466bb395",
   "metadata": {},
   "outputs": [],
   "source": [
    "X_train,X_test,y_train,y_test=train_test_split(X,y,test_size=0.2,random_state=42)\n",
    "scaler=StandardScaler()\n",
    "X_train_scaled=scaler.fit_transform(X_train)\n",
    "X_test_scaled=scaler.transform(X_test)\n"
   ]
  },
  {
   "cell_type": "code",
   "execution_count": 9,
   "id": "f6203d20-7c08-46fa-b5de-d6524b25ff67",
   "metadata": {},
   "outputs": [],
   "source": [
    "X_train_scaled=pd.DataFrame(X_train_scaled,columns=X.columns)\n",
    "X_test_scaled=pd.DataFrame(X_test_scaled,columns=X.columns)\n"
   ]
  },
  {
   "cell_type": "code",
   "execution_count": 10,
   "id": "9e64da80-c654-457b-a852-d1b56a547f8e",
   "metadata": {},
   "outputs": [],
   "source": [
    "scaled_train=X_train_scaled.copy()\n",
    "scaled_train['completed_course']=y_train.values\n",
    "scaled_train.to_csv(\"scaled_train_data.csv\",index=False)\n",
    "scaled_test=X_test_scaled.copy()\n",
    "scaled_test['completed_course']=y_test.values\n",
    "scaled_test.to_csv(\"scaled_test_data.csv\",index=False)\n"
   ]
  }
 ],
 "metadata": {
  "kernelspec": {
   "display_name": "ml11",
   "language": "python",
   "name": "my-ml-project_1"
  },
  "language_info": {
   "codemirror_mode": {
    "name": "ipython",
    "version": 3
   },
   "file_extension": ".py",
   "mimetype": "text/x-python",
   "name": "python",
   "nbconvert_exporter": "python",
   "pygments_lexer": "ipython3",
   "version": "3.12.3"
  }
 },
 "nbformat": 4,
 "nbformat_minor": 5
}
